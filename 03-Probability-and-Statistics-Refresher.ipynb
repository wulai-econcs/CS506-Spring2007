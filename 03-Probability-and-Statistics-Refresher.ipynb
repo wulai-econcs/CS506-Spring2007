{
 "cells": [
  {
   "cell_type": "markdown",
   "metadata": {
    "slideshow": {
     "slide_type": "slide"
    }
   },
   "source": [
    "# Probability and Statistics Refresher"
   ]
  },
  {
   "cell_type": "code",
   "execution_count": 1,
   "metadata": {
    "collapsed": false,
    "slideshow": {
     "slide_type": "skip"
    }
   },
   "outputs": [
    {
     "name": "stdout",
     "output_type": "stream",
     "text": [
      "\n"
     ]
    }
   ],
   "source": [
    "%matplotlib inline\n",
    "%config InlineBackend.figure_format='retina'\n",
    "# import libraries\n",
    "import numpy as np\n",
    "import matplotlib as mp\n",
    "import pandas as pd\n",
    "import matplotlib.pyplot as plt\n",
    "import pandas as pd\n",
    "import slideUtilities as sl\n",
    "from importlib import reload\n",
    "from datetime import datetime\n",
    "from IPython.display import Image\n",
    "from IPython.display import display_html\n",
    "from IPython.display import display\n",
    "from IPython.display import Math\n",
    "from IPython.display import Latex\n",
    "from IPython.display import HTML\n",
    "print('')"
   ]
  },
  {
   "cell_type": "code",
   "execution_count": 2,
   "metadata": {
    "collapsed": false,
    "slideshow": {
     "slide_type": "skip"
    }
   },
   "outputs": [
    {
     "data": {
      "text/html": [
       "<style>\n",
       " .container.slides .celltoolbar, .container.slides .hide-in-slideshow {\n",
       "    display: None ! important;\n",
       "}\n",
       "</style>"
      ],
      "text/plain": [
       "<IPython.core.display.HTML object>"
      ]
     },
     "metadata": {},
     "output_type": "display_data"
    }
   ],
   "source": [
    "%%html\n",
    "<style>\n",
    " .container.slides .celltoolbar, .container.slides .hide-in-slideshow {\n",
    "    display: None ! important;\n",
    "}\n",
    "</style>"
   ]
  },
  {
   "cell_type": "markdown",
   "metadata": {
    "slideshow": {
     "slide_type": "fragment"
    }
   },
   "source": [
    "Today we'll review the essentials of probability and statistics.  Given the prerequisites for this course, I assume that you learned all of this once.  What I want to do today is bring the material back into your mind fresh."
   ]
  },
  {
   "cell_type": "markdown",
   "metadata": {
    "slideshow": {
     "slide_type": "slide"
    }
   },
   "source": [
    "## Probability\n",
    "\n",
    "What is probability?  "
   ]
  },
  {
   "cell_type": "markdown",
   "metadata": {
    "slideshow": {
     "slide_type": "fragment"
    }
   },
   "source": [
    "Historically, the notion of probability has actually been very slippery and hard to pin down exactly.   There are probably at least three ways to view probability in practice:\n",
    "\n",
    "1. as a mathematical exercise involving positive functions that integrate to 1 (i.e., distributions).\n",
    "2. as an encoding of natural rules for reasoning under uncertainty. \n",
    "3. as an idealization of properties of data and processes."
   ]
  },
  {
   "cell_type": "markdown",
   "metadata": {
    "slideshow": {
     "slide_type": "fragment"
    }
   },
   "source": [
    "For our purposes, we use probability as an abstraction that hides details we don't want to deal with.  This is a time-honored use of probability."
   ]
  },
  {
   "cell_type": "markdown",
   "metadata": {
    "slideshow": {
     "slide_type": "fragment"
    }
   },
   "source": [
    ">Any simple idea is approximate; as an illustration, consider an object ... what is an object? Philosophers are always \n",
    ">saying, “Well, just take a chair for example.” The moment they say that, you know that they do not know what they are \n",
    ">talking about any more. What is a chair? ... every object is a mixture of a lot of things, so we can deal with it \n",
    "> only as a series of approximations and idealizations.\n",
    "\n",
    ">The trick is the idealizations.\n",
    "\n",
    "Richard Feynman, _The Feynman Lectures on Physics, 12-2_"
   ]
  },
  {
   "cell_type": "markdown",
   "metadata": {
    "slideshow": {
     "slide_type": "fragment"
    }
   },
   "source": [
    "Here is an illustration of this principle applied to probability:"
   ]
  },
  {
   "cell_type": "markdown",
   "metadata": {
    "slideshow": {
     "slide_type": "-"
    }
   },
   "source": [
    ">In a serious work ... an expression such as “this phenomenon is due to chance” constitutes simply, \n",
    ">an elliptic form of speech. ... It really means “everything occurs as if this phenomenon were due to chance,” \n",
    ">or, to be more precise: “To describe, or interpret or formalize this phenomenon, \n",
    ">only probabilistic models have so far given good results.”\n",
    "\n",
    "Georges Matheron, _Estimating and Choosing: An Essay on Probability in Practice_"
   ]
  },
  {
   "cell_type": "markdown",
   "metadata": {
    "slideshow": {
     "slide_type": "slide"
    }
   },
   "source": [
    "### Probability and Conditioning"
   ]
  },
  {
   "cell_type": "markdown",
   "metadata": {
    "slideshow": {
     "slide_type": "fragment"
    }
   },
   "source": [
    "__Definition.__  Consider a set $\\Omega$, referred to as the\n",
    "_sample space._  A _probability\n",
    "  measure_ on $\\Omega$ is a function $P[\\cdot]$ defined on all the subsets of $\\Omega$ (the\n",
    "  _events_) such that:\n",
    "  \n",
    "1. $P[\\Omega] = 1$\n",
    "2. For any event $A \\subset \\Omega$, $P[A] \\geq 0.$\n",
    "3. For any events $A, B \\subset \\Omega$ where $A \\cap B =\n",
    "    \\emptyset$, $P[A \\cup B] = P[A] + P[B]$.\n",
    "\n"
   ]
  },
  {
   "cell_type": "markdown",
   "metadata": {
    "slideshow": {
     "slide_type": "fragment"
    }
   },
   "source": [
    "Often we want to ask how a probability measure changes if we restrict the sample space to be some subset of $\\Omega$.  \n",
    "\n",
    "This is called __conditioning.__"
   ]
  },
  {
   "cell_type": "markdown",
   "metadata": {
    "slideshow": {
     "slide_type": "fragment"
    }
   },
   "source": [
    "__Definition.__ The _conditional probability_ of an event $A$ given that\n",
    "event $B$ (having positive probability) is known to occur, is \n",
    "\n",
    "$$ P[A|B] = \\frac{P[A \\cap B]}{P[B]}  \\mbox{ where } P[B] > 0 $$"
   ]
  },
  {
   "cell_type": "markdown",
   "metadata": {
    "slideshow": {
     "slide_type": "fragment"
    }
   },
   "source": [
    "The function $P[\\cdot|B]$ is a probability measure over the sample space\n",
    "$B$.  \n",
    "\n",
    "Note that in the expression $P[A|B]$, $A$ is random but $B$ is fixed. \n",
    "\n",
    "Now if $B$ is a proper subset of $\\Omega,$ then $P[B] < 1$.   So $P[\\cdot|B]$ is a rescaling of the quantity $P[A\\cap B]$ so that $P[B|B] = 1.$ "
   ]
  },
  {
   "cell_type": "markdown",
   "metadata": {
    "slideshow": {
     "slide_type": "fragment"
    }
   },
   "source": [
    "The sample space $\\Omega$ may be continuous or discrete, and bounded or unbounded."
   ]
  },
  {
   "cell_type": "markdown",
   "metadata": {
    "slideshow": {
     "slide_type": "fragment"
    }
   },
   "source": [
    "__Independent Events.__\n",
    "\n",
    "__Definition.__ Two events $A$ and $B$ are __independent__ if $P[A\\cap B] = P[A] \\cdot P[B].$\n",
    "\n",
    "This is exactly the same as saying that $P[A|B] = P[A].$  \n",
    "\n",
    "So we can see that the intuitive notion of independence is that \"if one event occurs, that does not change the probability of the other event.\""
   ]
  },
  {
   "cell_type": "markdown",
   "metadata": {
    "slideshow": {
     "slide_type": "slide"
    }
   },
   "source": [
    "## Random Variables"
   ]
  },
  {
   "cell_type": "markdown",
   "metadata": {
    "slideshow": {
     "slide_type": "fragment"
    }
   },
   "source": [
    "We are usually interested in numeric values associated with events.  \n",
    "\n",
    "When a random event has a numeric value we refer to it as a random variable.\n",
    "\n",
    "Notationally, we use CAPITAL LETTERS for random variables and lowercase for non-random quantities."
   ]
  },
  {
   "cell_type": "markdown",
   "metadata": {
    "slideshow": {
     "slide_type": "fragment"
    }
   },
   "source": [
    "To collect information about what values of the random variable are more probable than others, we have some more definitions."
   ]
  },
  {
   "cell_type": "markdown",
   "metadata": {
    "slideshow": {
     "slide_type": "fragment"
    }
   },
   "source": [
    "__Definition.__ The cumulative distribution function (CDF) F for a random\n",
    " variable $X$ is equal to the probability measure for the event that\n",
    " consists of all possible outcomes with a value of the random variable $X$\n",
    " less than or equal to $x$, that is, $F(x) = P[X \\leq x].$"
   ]
  },
  {
   "cell_type": "markdown",
   "metadata": {
    "slideshow": {
     "slide_type": "fragment"
    }
   },
   "source": [
    "__Example.__  Consider the roll of a single die.  The random variable here is the number of points showing.  What is the CDF?"
   ]
  },
  {
   "cell_type": "code",
   "execution_count": 3,
   "metadata": {
    "collapsed": false,
    "slideshow": {
     "slide_type": "fragment"
    }
   },
   "outputs": [
    {
     "data": {
      "text/html": [
       "<div id=\"735f564a88fed481\"></div>\n",
       "    <script type=\"text/javascript\">\n",
       "        $(function(){\n",
       "            var p = $(\"#735f564a88fed481\");\n",
       "            if (p.length==0) return;\n",
       "\n",
       "            while (!p.hasClass(\"cell\")) {\n",
       "                p=p.parent();\n",
       "\n",
       "                if (p.prop(\"tagName\") ==\"body\") return;\n",
       "            }\n",
       "            var cell = p;\n",
       "            cell.find(\".input\").addClass(\"hide-in-slideshow\")\n",
       "        });\n",
       "    </script>"
      ]
     },
     "metadata": {},
     "output_type": "display_data"
    },
    {
     "name": "stdout",
     "output_type": "stream",
     "text": [
      "\n"
     ]
    },
    {
     "data": {
      "image/png": "[encoded data removed]",
      "text/plain": [
       "<matplotlib.figure.Figure at 0x112d0a898>"
      ]
     },
     "metadata": {
      "image/png": {
       "height": 270,
       "width": 393
      }
     },
     "output_type": "display_data"
    }
   ],
   "source": [
    "sl.hide_code_in_slideshow()\n",
    "plt.figure()\n",
    "for i in range(7):\n",
    "    plt.plot(i,i/6.,'ob')\n",
    "    plt.plot([i,i+1],[i/6.,i/6.],'-b')\n",
    "plt.xlim([-0.5,7])\n",
    "plt.ylim([-0.05,1.1])\n",
    "plt.xlabel('Number of points showing',size=14)\n",
    "plt.ylabel(r'$P[X\\leq x]$',size=14)\n",
    "print('')"
   ]
  },
  {
   "cell_type": "markdown",
   "metadata": {
    "slideshow": {
     "slide_type": "fragment"
    }
   },
   "source": [
    "Now, consider this CDF of some random variable:"
   ]
  },
  {
   "cell_type": "code",
   "execution_count": 4,
   "metadata": {
    "collapsed": false,
    "slideshow": {
     "slide_type": "-"
    }
   },
   "outputs": [
    {
     "data": {
      "text/html": [
       "<div id=\"b5a0c47c2ab4b68f\"></div>\n",
       "    <script type=\"text/javascript\">\n",
       "        $(function(){\n",
       "            var p = $(\"#b5a0c47c2ab4b68f\");\n",
       "            if (p.length==0) return;\n",
       "\n",
       "            while (!p.hasClass(\"cell\")) {\n",
       "                p=p.parent();\n",
       "\n",
       "                if (p.prop(\"tagName\") ==\"body\") return;\n",
       "            }\n",
       "            var cell = p;\n",
       "            cell.find(\".input\").addClass(\"hide-in-slideshow\")\n",
       "        });\n",
       "    </script>"
      ]
     },
     "metadata": {},
     "output_type": "display_data"
    },
    {
     "name": "stdout",
     "output_type": "stream",
     "text": [
      "\n"
     ]
    },
    {
     "data": {
      "image/png": "[encoded data removed]",
      "text/plain": [
       "<matplotlib.figure.Figure at 0x115a70630>"
      ]
     },
     "metadata": {
      "image/png": {
       "height": 274,
       "width": 393
      }
     },
     "output_type": "display_data"
    }
   ],
   "source": [
    "sl.hide_code_in_slideshow()\n",
    "from scipy.stats import norm\n",
    "plt.figure()\n",
    "x = np.linspace(norm.ppf(0.001), norm.ppf(0.999), 100)\n",
    "plt.plot(x, norm.cdf(x),'b-')\n",
    "plt.xlabel('x',size=14)\n",
    "plt.ylabel(r'$P[X\\leq x]$',size=14)\n",
    "print('')"
   ]
  },
  {
   "cell_type": "markdown",
   "metadata": {},
   "source": [
    "What does it mean when the slope is steeper for some $x$ values?\n",
    "\n",
    "The slope tells us how likely values are in a particular range."
   ]
  },
  {
   "cell_type": "markdown",
   "metadata": {},
   "source": [
    "This is important enough that we define a function to capture it.  \n",
    "\n",
    "__Definition.__ The _probability density function_ (pdf) is the derivative of the CDF, when that is defined.\n",
    "\n",
    "$$ f(x) = \\frac{dF(x)}{dx}.$$"
   ]
  },
  {
   "cell_type": "markdown",
   "metadata": {},
   "source": [
    "Often we will go the other way as well:\n",
    "\n",
    "$$ F(x) = \\int_{-\\infty}^{x} f(t)\\; dt $$"
   ]
  },
  {
   "cell_type": "markdown",
   "metadata": {},
   "source": [
    "You should be able to see that:\n",
    "\n",
    "$$ \\int_{-\\infty}^{+\\infty} f(x)\\; dx = 1 $$\n",
    "\n",
    "and\n",
    "\n",
    "$$      f(x) \\geq 0 $$"
   ]
  },
  {
   "cell_type": "markdown",
   "metadata": {
    "slideshow": {
     "slide_type": "fragment"
    }
   },
   "source": [
    "Now, for a discrete random variable, the CDF is not differentiable (because the CDF is a step function).  \n",
    "\n",
    "For the PDF of discrete RVs, we simply plot the probability function of\n",
    "each value.  That is, we plot $P[X = x]$ for the various values of $x$.\n",
    "\n",
    "Another way to think of the PDF is that it consists of impulses at the\n",
    "points of discontinuity of the CDF. "
   ]
  },
  {
   "cell_type": "markdown",
   "metadata": {
    "slideshow": {
     "slide_type": "fragment"
    }
   },
   "source": [
    "For our example of the single die:"
   ]
  },
  {
   "cell_type": "code",
   "execution_count": 5,
   "metadata": {
    "collapsed": false,
    "slideshow": {
     "slide_type": "-"
    }
   },
   "outputs": [
    {
     "data": {
      "text/html": [
       "<div id=\"8d555ce190003448\"></div>\n",
       "    <script type=\"text/javascript\">\n",
       "        $(function(){\n",
       "            var p = $(\"#8d555ce190003448\");\n",
       "            if (p.length==0) return;\n",
       "\n",
       "            while (!p.hasClass(\"cell\")) {\n",
       "                p=p.parent();\n",
       "\n",
       "                if (p.prop(\"tagName\") ==\"body\") return;\n",
       "            }\n",
       "            var cell = p;\n",
       "            cell.find(\".input\").addClass(\"hide-in-slideshow\")\n",
       "        });\n",
       "    </script>"
      ]
     },
     "metadata": {},
     "output_type": "display_data"
    },
    {
     "name": "stdout",
     "output_type": "stream",
     "text": [
      "\n"
     ]
    },
    {
     "data": {
      "image/png": "[encoded data removed]",
      "text/plain": [
       "<matplotlib.figure.Figure at 0x11728f1d0>"
      ]
     },
     "metadata": {
      "image/png": {
       "height": 270,
       "width": 390
      }
     },
     "output_type": "display_data"
    }
   ],
   "source": [
    "sl.hide_code_in_slideshow()\n",
    "plt.figure()\n",
    "x = np.arange(7)\n",
    "plt.plot(x, 7*[1/6.], 'bo', ms=8)\n",
    "plt.vlines(x, 0, 1/6., colors='b', lw=5, alpha=0.5)\n",
    "plt.xlim([-0.5,6.5])\n",
    "plt.ylim([0,1.1])\n",
    "plt.xlabel('Number of points showing',size=14)\n",
    "plt.ylabel(r'$P[X = x]$',size=14)\n",
    "print('')"
   ]
  },
  {
   "cell_type": "markdown",
   "metadata": {
    "slideshow": {
     "slide_type": "slide"
    }
   },
   "source": [
    "## Characterizing Random Variables"
   ]
  },
  {
   "cell_type": "markdown",
   "metadata": {
    "slideshow": {
     "slide_type": "fragment"
    }
   },
   "source": [
    "__Definition.__ The _expected value_ $E[X]$ of a random\n",
    "variable $X$ is the probability-weighted sum or integral of all possible values of\n",
    "the R.V.  \n",
    "\n",
    "For a discrete random variable, this is:\n",
    "\n",
    "$$ E[K] \\equiv \\sum_{-\\infty}^{+\\infty} k\\; P[K=k] $$\n",
    "\n",
    "and for a continuous random variable with pdf $p():$\n",
    "\n",
    "$$ E[K] \\equiv \\int_{-\\infty}^{+\\infty} k\\; p(k)\\; dk $$"
   ]
  },
  {
   "cell_type": "markdown",
   "metadata": {
    "slideshow": {
     "slide_type": "fragment"
    }
   },
   "source": [
    "The expected value is also called the average or the mean, although we\n",
    "prefer to reserve those terms for empirical statistics (actual\n",
    "measurements, not idealizations like these formulas).\n",
    "\n",
    "The expected value is in some sense the \"center of mass\" of the random\n",
    "variable.   It is often denoted $\\mu$."
   ]
  },
  {
   "cell_type": "markdown",
   "metadata": {
    "slideshow": {
     "slide_type": "fragment"
    }
   },
   "source": [
    "The mean is usually a quite useful characterization of the random variable.\n",
    "\n",
    "However, be careful: in some cases, the mean may not be very informative, or important.  \n",
    "\n",
    "In some cases a\n",
    "random variable may not ever take on the mean as a possible value.  (Consider again the single die, whose mean is 3.5)\n",
    "\n",
    "In other cases the notion of average isn't useful, as for the person\n",
    "with their head in the oven and feet in the freezer who claims \"on\n",
    "average I feel fine.\" \n",
    "\n",
    "In other words, the mean may not be very informative when\n",
    "observations are highly variable.   "
   ]
  },
  {
   "cell_type": "markdown",
   "metadata": {
    "slideshow": {
     "slide_type": "slide"
    }
   },
   "source": [
    "In fact, the variability of random quantities is crucially important to characterize.\n",
    "\n",
    "For this we use __variance,__ the mean squared difference of the random variable from its mean.\n",
    "\n",
    "__Definition.__ The variance of a random variable $X$ is\n",
    "\n",
    "$$ Var(X) \\equiv E[(X - E[X])^2]$$.\n",
    "\n",
    "For a discrete R.V. with $E[X] = \\mu$ this would be:\n",
    "$$ Var(X) = \\sum_{x=-\\infty}^{+\\infty} (x-\\mu)^2\\; P[X=x]. $$"
   ]
  },
  {
   "cell_type": "markdown",
   "metadata": {
    "slideshow": {
     "slide_type": "fragment"
    }
   },
   "source": [
    "The units of variance are the square of the units of the mean. \n",
    "\n",
    "To compare variance and mean, we take the square root of the variance.\n",
    "\n",
    "This is called the __standard deviation__ and is denoted $\\sigma$.\n",
    "So variance is denoted $\\sigma^2$."
   ]
  },
  {
   "cell_type": "markdown",
   "metadata": {
    "slideshow": {
     "slide_type": "slide"
    }
   },
   "source": [
    "Next, let's recall the case of the Tesla and Yelp returns from the last lecture:"
   ]
  },
  {
   "cell_type": "code",
   "execution_count": 6,
   "metadata": {
    "collapsed": false
   },
   "outputs": [
    {
     "data": {
      "text/html": [
       "<div id=\"59d9024e8ffc6503\"></div>\n",
       "    <script type=\"text/javascript\">\n",
       "        $(function(){\n",
       "            var p = $(\"#59d9024e8ffc6503\");\n",
       "            if (p.length==0) return;\n",
       "\n",
       "            while (!p.hasClass(\"cell\")) {\n",
       "                p=p.parent();\n",
       "\n",
       "                if (p.prop(\"tagName\") ==\"body\") return;\n",
       "            }\n",
       "            var cell = p;\n",
       "            cell.find(\".input\").addClass(\"hide-in-slideshow\")\n",
       "        });\n",
       "    </script>"
      ]
     },
     "metadata": {},
     "output_type": "display_data"
    },
    {
     "data": {
      "text/plain": [
       "<matplotlib.legend.Legend at 0x1174ae390>"
      ]
     },
     "execution_count": 6,
     "metadata": {},
     "output_type": "execute_result"
    },
    {
     "data": {
      "image/png": "[encoded data removed]",
      "text/plain": [
       "<matplotlib.figure.Figure at 0x1178d02b0>"
      ]
     },
     "metadata": {
      "image/png": {
       "height": 272,
       "width": 377
      }
     },
     "output_type": "display_data"
    }
   ],
   "source": [
    "sl.hide_code_in_slideshow()\n",
    "import pandas as pd\n",
    "import pandas_datareader.data as web\n",
    "\n",
    "stocks = ['TSLA', 'YELP']\n",
    "attr = 'Close'\n",
    "data_source = 'yahoo'\n",
    "df = web.DataReader(stocks, \n",
    "                    data_source,                               \n",
    "                    start=datetime(2014, 1, 1), \n",
    "                    end=datetime(2014, 12, 31))[attr]\n",
    "rets = df.pct_change(30)\n",
    "rets.TSLA.plot(label = 'tesla')\n",
    "rets.YELP.plot(label = 'yelp')\n",
    "plt.legend(loc='best')"
   ]
  },
  {
   "cell_type": "markdown",
   "metadata": {
    "slideshow": {
     "slide_type": "fragment"
    }
   },
   "source": [
    "Treating these two timeseries as random variables, we are interested in how the vary __together__.\n",
    "\n",
    "This is captured by the concept of __covariance.__\n",
    "\n",
    "__Definition.__ For two random variables $X$ and $Y$, their _covariance_ is defined as:\n",
    "\n",
    "$$\\text{Cov}(X,Y) = E\\left[(X-\\mu_X)(Y-\\mu_Y)\\right]$$\n",
    "\n",
    "Basically, covariance is large when $X$ and $Y$ tend to be both above their means together, and both below their means together."
   ]
  },
  {
   "cell_type": "markdown",
   "metadata": {
    "slideshow": {
     "slide_type": "slide"
    }
   },
   "source": [
    "## Low and High Variability"
   ]
  },
  {
   "cell_type": "markdown",
   "metadata": {
    "slideshow": {
     "slide_type": "fragment"
    }
   },
   "source": [
    "Historically, most sources of random variation that have concerned\n",
    "statisticians are instances of low variability.  \n",
    "\n",
    "The original roots of\n",
    "probability in the study of games of chance, and later in the study of\n",
    "biology and medicine, have mainly studied objects with low variability.\n",
    "\n",
    "(Note that by \"low variability\" I don't mean that such variability is unimportant.)"
   ]
  },
  {
   "cell_type": "markdown",
   "metadata": {
    "slideshow": {
     "slide_type": "fragment"
    }
   },
   "source": [
    "Some examples of random variation in this category are: \n",
    "\n",
    "* the heights of adult humans\n",
    "* the number of trees per unit area in a mature forest\n",
    "* the sum of 10 rolls of a die\n",
    "* the time between emission of subatomic particles from a radioactive material.\n",
    "\n",
    "In each of these cases, there are a range of values that are\n",
    " \"typical,\" and there is a clear threshold above what is typical, that essentially never occurs.\n"
   ]
  },
  {
   "cell_type": "markdown",
   "metadata": {
    "slideshow": {
     "slide_type": "fragment"
    }
   },
   "source": [
    "On the other hand, there are some situations in which variability is\n",
    "quite different.  \n",
    "\n",
    "In these cases, there is no real \"typical\" range of\n",
    "values, and arbitrarily large values can occur with non-negligible\n",
    "frequency.   \n",
    "\n",
    "Some examples in this category are\n",
    "\n",
    "* the distribution of wealth among individuals in society\n",
    "* the sizes of human settlements\n",
    "* the areas burnt in forest fires\n",
    "* the runs of gains and losses in various financial markets over time\n",
    "* and the number of collaborators a scholar has over her lifetime.   "
   ]
  },
  {
   "cell_type": "markdown",
   "metadata": {
    "slideshow": {
     "slide_type": "fragment"
    }
   },
   "source": [
    "> The banking system (betting against rare events) just lost [more than] 1\n",
    "> Trillion dollars (so far) on a single error, more than was ever earned\n",
    "> in the history of banking.\n",
    "\n",
    "Nassim Nicholas Taleb, September 2008 \n",
    "\n",
    "\n",
    "\n"
   ]
  },
  {
   "cell_type": "markdown",
   "metadata": {
    "slideshow": {
     "slide_type": "fragment"
    }
   },
   "source": [
    "![](figs/derivatives-portfolio-variation.png)\n",
    "\n",
    "An example of a run of observations showing high variability.   This figure shows the daily\n",
    "variations in a derivatives portfolio over the timeframe 1988-2008.\n",
    "About 99% of the variation over the 20 years occurs in a single day\n",
    "(the day the European Monetary System collapsed).\n"
   ]
  },
  {
   "cell_type": "markdown",
   "metadata": {
    "slideshow": {
     "slide_type": "slide"
    }
   },
   "source": [
    "## Important Random Variables"
   ]
  },
  {
   "cell_type": "markdown",
   "metadata": {
    "slideshow": {
     "slide_type": "fragment"
    }
   },
   "source": [
    "### Independent Trials"
   ]
  },
  {
   "cell_type": "markdown",
   "metadata": {
    "slideshow": {
     "slide_type": "fragment"
    }
   },
   "source": [
    "Here is our canonical experiment: flipping a weighted coin.  \n",
    "\n",
    "The coin\n",
    "comes up \"heads\" (aka \"success\") with probability $p$.  \n",
    "\n",
    "We use the standard notation that the corresponding probability (\"tails\", \"failure\") is denoted $q$\n",
    "(i.e., $q = 1-p$).  \n",
    "\n",
    "These are called _Bernoulli trials_; one can think of each trial as a timestep so these are about _discrete\n",
    "  time_.\n",
    "  \n",
    "Notice that by definition, Bernoulli trials are __independent events.__"
   ]
  },
  {
   "cell_type": "markdown",
   "metadata": {
    "slideshow": {
     "slide_type": "fragment"
    }
   },
   "source": [
    "Now we will extend this notion to continuous time.\n",
    "\n",
    "Imagine that you \"speed up\" the coin flipping so that instead of flipping a coin once per second,\n",
    "you flip it $m$ times per second, and you simultaneously decrease the\n",
    "probability of success to $p/m$.   \n",
    "\n",
    "Then you expect the same number of\n",
    "events (successes, heads) per second (i.e., $p$), but events can happen at finer time\n",
    "intervals.   "
   ]
  },
  {
   "cell_type": "markdown",
   "metadata": {
    "slideshow": {
     "slide_type": "fragment"
    }
   },
   "source": [
    "Now imagine the limit as $m \\rightarrow \\infty$.  \n",
    "\n",
    "This is a\n",
    "mathematical abstraction in which \n",
    "* an event can happen at _any_ time instant\n",
    "* an event at any time instant is equally likely\n",
    "* and an event at any time instant is independent of any other time instant (it's still a coin with no memory).   "
   ]
  },
  {
   "cell_type": "markdown",
   "metadata": {
    "slideshow": {
     "slide_type": "fragment"
    }
   },
   "source": [
    "Now we can think of events happening at some _rate_ $\\lambda$ that is\n",
    "equal to $p$ per second.  \n",
    "\n",
    "Note that $\\lambda$ has units of inverse time, e.g., sec$^{-1}$. "
   ]
  },
  {
   "cell_type": "markdown",
   "metadata": {
    "slideshow": {
     "slide_type": "slide"
    }
   },
   "source": [
    "For each of these two cases (discrete and continuous time) there are two questions we can ask:\n",
    "\n",
    "1. Given that an event has just occured, how long until the next\n",
    "  success?\n",
    "2. In a fixed number of trials or amount of time, how many events\n",
    "  occur?\n"
   ]
  },
  {
   "cell_type": "markdown",
   "metadata": {
    "slideshow": {
     "slide_type": "fragment"
    }
   },
   "source": [
    "These four cases define four commonly-used random variables.\n",
    "\n",
    "\n",
    "\n",
    "\n",
    "| | # Trials or Time Until Event | Number of Events in Fixed Time  |\n",
    "|-|:--:|:--:|\n",
    "|__Discrete Trials__| Geometric| Binomial |\n",
    "|__Continuous Rate__| Exponential | Poisson|\n",
    "\n",
    "Each one has an associated distribution."
   ]
  },
  {
   "cell_type": "markdown",
   "metadata": {
    "slideshow": {
     "slide_type": "slide"
    }
   },
   "source": [
    "#### The Geometric Distribution"
   ]
  },
  {
   "cell_type": "markdown",
   "metadata": {
    "slideshow": {
     "slide_type": "fragment"
    }
   },
   "source": [
    "The geometric distribution answers the question: \"what is the probability there are exactly $k$ trials before the first success?\"\n",
    "\n",
    "Its PDF is given by:\n",
    "\n",
    "$$ P[X = k] = p(1-p)^k. $$ \n",
    "\n",
    "Its mean is $\\mu = \\frac{1-p}{p}$ and its variance is $\\sigma^2 = \\frac{1-p}{p^2}$."
   ]
  },
  {
   "cell_type": "markdown",
   "metadata": {
    "slideshow": {
     "slide_type": "fragment"
    }
   },
   "source": [
    "Its pdf looks like:"
   ]
  },
  {
   "cell_type": "code",
   "execution_count": 7,
   "metadata": {
    "collapsed": false,
    "slideshow": {
     "slide_type": "-"
    }
   },
   "outputs": [
    {
     "data": {
      "text/html": [
       "<div id=\"0768a640299af26e\"></div>\n",
       "    <script type=\"text/javascript\">\n",
       "        $(function(){\n",
       "            var p = $(\"#0768a640299af26e\");\n",
       "            if (p.length==0) return;\n",
       "\n",
       "            while (!p.hasClass(\"cell\")) {\n",
       "                p=p.parent();\n",
       "\n",
       "                if (p.prop(\"tagName\") ==\"body\") return;\n",
       "            }\n",
       "            var cell = p;\n",
       "            cell.find(\".input\").addClass(\"hide-in-slideshow\")\n",
       "        });\n",
       "    </script>"
      ]
     },
     "metadata": {},
     "output_type": "display_data"
    },
    {
     "name": "stdout",
     "output_type": "stream",
     "text": [
      "\n"
     ]
    },
    {
     "data": {
      "image/png": "[encoded data removed]",
      "text/plain": [
       "<matplotlib.figure.Figure at 0x1179b05c0>"
      ]
     },
     "metadata": {
      "image/png": {
       "height": 286,
       "width": 400
      }
     },
     "output_type": "display_data"
    }
   ],
   "source": [
    "sl.hide_code_in_slideshow()\n",
    "from scipy.stats import geom\n",
    "p = 0.3\n",
    "x = np.arange(geom.ppf(0.01, p), geom.ppf(0.995, p))\n",
    "plt.ylim([0,0.4])\n",
    "plt.xlim([-0.5,max(x)])\n",
    "plt.plot(x-1, geom.pmf(x, p), 'bo', ms=8, label='geom pmf')\n",
    "plt.vlines(x-1, 0, geom.pmf(x, p), colors='b', lw=5, alpha=0.5)\n",
    "plt.title('Geometric PDF.  p = 0.3',size=14)\n",
    "plt.xlabel(r'k',size=14)\n",
    "plt.ylabel(r'P[X = k]',size=14)\n",
    "print('')"
   ]
  },
  {
   "cell_type": "markdown",
   "metadata": {
    "slideshow": {
     "slide_type": "slide"
    }
   },
   "source": [
    "#### The Binomial Distribution"
   ]
  },
  {
   "cell_type": "markdown",
   "metadata": {
    "slideshow": {
     "slide_type": "fragment"
    }
   },
   "source": [
    "In this experiment there are precisely $N$ coin flips, and $p$ is still\n",
    "the probability of a success.  Now we ask: what is the probability there\n",
    "will be $k$ successes?"
   ]
  },
  {
   "cell_type": "markdown",
   "metadata": {
    "slideshow": {
     "slide_type": "fragment"
    }
   },
   "source": [
    "For any given sequence of $k$ successes and $N-k$ failures, the probability is $p^k (1-p)^{N-k}$.\n",
    "\n",
    "But there are many different such sequences: $C^N_k$ of them in fact.\n",
    "\n",
    "So this distribution is $P[X=k] = C^N_k p^k (1-p)^{N-k}.$\n",
    "\n",
    "Its mean is $pN$, and its variance is $pqN$.  "
   ]
  },
  {
   "cell_type": "code",
   "execution_count": 8,
   "metadata": {
    "collapsed": false,
    "slideshow": {
     "slide_type": "fragment"
    }
   },
   "outputs": [
    {
     "data": {
      "text/html": [
       "<div id=\"2f223c49d925bd3e\"></div>\n",
       "    <script type=\"text/javascript\">\n",
       "        $(function(){\n",
       "            var p = $(\"#2f223c49d925bd3e\");\n",
       "            if (p.length==0) return;\n",
       "\n",
       "            while (!p.hasClass(\"cell\")) {\n",
       "                p=p.parent();\n",
       "\n",
       "                if (p.prop(\"tagName\") ==\"body\") return;\n",
       "            }\n",
       "            var cell = p;\n",
       "            cell.find(\".input\").addClass(\"hide-in-slideshow\")\n",
       "        });\n",
       "    </script>"
      ]
     },
     "metadata": {},
     "output_type": "display_data"
    },
    {
     "name": "stdout",
     "output_type": "stream",
     "text": [
      "\n"
     ]
    },
    {
     "data": {
      "image/png": "[encoded data removed]",
      "text/plain": [
       "<matplotlib.figure.Figure at 0x1174bccc0>"
      ]
     },
     "metadata": {
      "image/png": {
       "height": 286,
       "width": 394
      }
     },
     "output_type": "display_data"
    }
   ],
   "source": [
    "sl.hide_code_in_slideshow()\n",
    "from scipy.stats import binom\n",
    "p = 0.3\n",
    "x = np.arange(binom.ppf(0.01, 10, p), binom.ppf(0.9995, 10, p))\n",
    "plt.ylim([0,0.4])\n",
    "plt.xlim([-0.5,max(x)+0.5])\n",
    "plt.plot(x, binom.pmf(x, 10, p), 'bo', ms=8, label='binom pmf')\n",
    "plt.vlines(x, 0, binom.pmf(x, 10, p), colors='b', lw=5, alpha=0.5)\n",
    "plt.title('Binomial PDF.  p = 0.3, N = 10',size=14)\n",
    "plt.xlabel(r'k',size=14)\n",
    "plt.ylabel(r'P[X = k]',size=14)\n",
    "print('')"
   ]
  },
  {
   "cell_type": "markdown",
   "metadata": {
    "slideshow": {
     "slide_type": "slide"
    }
   },
   "source": [
    "#### The Exponential Distribution"
   ]
  },
  {
   "cell_type": "markdown",
   "metadata": {
    "slideshow": {
     "slide_type": "fragment"
    }
   },
   "source": [
    "This random variable is the analog of the geometric in the continuous case,\n",
    "_i.e.,_ the situation in which a success happens at some rate\n",
    "$\\lambda$.  This RV measures the time until a success occurs. \n",
    "\n",
    "Its pdf is:\n",
    "\n",
    "$$ p(x) = \\lambda e^{- \\lambda x}$$\n",
    "\n",
    "The mean is $1/\\lambda$, and the variance is $1/\\lambda^2$."
   ]
  },
  {
   "cell_type": "code",
   "execution_count": 9,
   "metadata": {
    "collapsed": false,
    "slideshow": {
     "slide_type": "fragment"
    }
   },
   "outputs": [
    {
     "data": {
      "text/html": [
       "<div id=\"9d8d248601fe63f5\"></div>\n",
       "    <script type=\"text/javascript\">\n",
       "        $(function(){\n",
       "            var p = $(\"#9d8d248601fe63f5\");\n",
       "            if (p.length==0) return;\n",
       "\n",
       "            while (!p.hasClass(\"cell\")) {\n",
       "                p=p.parent();\n",
       "\n",
       "                if (p.prop(\"tagName\") ==\"body\") return;\n",
       "            }\n",
       "            var cell = p;\n",
       "            cell.find(\".input\").addClass(\"hide-in-slideshow\")\n",
       "        });\n",
       "    </script>"
      ]
     },
     "metadata": {},
     "output_type": "display_data"
    },
    {
     "name": "stdout",
     "output_type": "stream",
     "text": [
      "\n"
     ]
    },
    {
     "data": {
      "image/png": "[encoded data removed]",
      "text/plain": [
       "<matplotlib.figure.Figure at 0x1179909b0>"
      ]
     },
     "metadata": {
      "image/png": {
       "height": 287,
       "width": 400
      }
     },
     "output_type": "display_data"
    }
   ],
   "source": [
    "sl.hide_code_in_slideshow()\n",
    "from scipy.stats import expon\n",
    "p = 0.3\n",
    "x = np.linspace(expon.ppf(0.01,scale=1/0.3), expon.ppf(0.995,scale=1/0.3), 100)\n",
    "plt.plot(x, expon.pdf(x,scale=1/0.3),'b-', lw=5, alpha=0.6, label='expon pdf')\n",
    "plt.title(r'Exponential PDF.  $\\lambda$ = 0.3',size=14)\n",
    "plt.xlabel(r'x',size=14)\n",
    "plt.ylabel(r'p(x)',size=14)\n",
    "plt.ylim([0,0.4])\n",
    "plt.xlim(xmax=14)\n",
    "print('')"
   ]
  },
  {
   "cell_type": "markdown",
   "metadata": {
    "slideshow": {
     "slide_type": "slide"
    }
   },
   "source": [
    "#### The Poisson Distribution"
   ]
  },
  {
   "cell_type": "markdown",
   "metadata": {
    "slideshow": {
     "slide_type": "fragment"
    }
   },
   "source": [
    "The Poisson Distribution is the limiting form of binomial, when the\n",
    "number of trials goes to infinity, happening at some rate $\\lambda$.\n",
    "\n",
    "$$ P[k \\mbox{ successes in time } T] = (\\lambda T)^k \\frac{e^{- \\lambda T}}{k!}$$"
   ]
  },
  {
   "cell_type": "markdown",
   "metadata": {
    "slideshow": {
     "slide_type": "fragment"
    }
   },
   "source": [
    "It answers the question: when events happen indepdently at some fixed rate, how many will occur in a given fixed interval?\n",
    "\n",
    "Its mean is $\\lambda T$ and its variance is $\\lambda T$ as well."
   ]
  },
  {
   "cell_type": "code",
   "execution_count": 10,
   "metadata": {
    "collapsed": false,
    "slideshow": {
     "slide_type": "fragment"
    }
   },
   "outputs": [
    {
     "data": {
      "text/html": [
       "<div id=\"6bf00851850a5b38\"></div>\n",
       "    <script type=\"text/javascript\">\n",
       "        $(function(){\n",
       "            var p = $(\"#6bf00851850a5b38\");\n",
       "            if (p.length==0) return;\n",
       "\n",
       "            while (!p.hasClass(\"cell\")) {\n",
       "                p=p.parent();\n",
       "\n",
       "                if (p.prop(\"tagName\") ==\"body\") return;\n",
       "            }\n",
       "            var cell = p;\n",
       "            cell.find(\".input\").addClass(\"hide-in-slideshow\")\n",
       "        });\n",
       "    </script>"
      ]
     },
     "metadata": {},
     "output_type": "display_data"
    },
    {
     "name": "stdout",
     "output_type": "stream",
     "text": [
      "\n"
     ]
    },
    {
     "data": {
      "image/png": "[encoded data removed]",
      "text/plain": [
       "<matplotlib.figure.Figure at 0x11aba89e8>"
      ]
     },
     "metadata": {
      "image/png": {
       "height": 286,
       "width": 394
      }
     },
     "output_type": "display_data"
    }
   ],
   "source": [
    "sl.hide_code_in_slideshow()\n",
    "from scipy.stats import poisson\n",
    "mu = 3\n",
    "x = np.arange(poisson.ppf(0.01, mu), poisson.ppf(0.9995, mu))\n",
    "# plt.ylim([0,1])\n",
    "plt.xlim([-0.5,max(x)+0.5])\n",
    "plt.ylim(ymax=0.4)\n",
    "plt.plot(x, poisson.pmf(x, mu), 'bo', ms=8, label='poisson pmf')\n",
    "plt.vlines(x, 0, poisson.pmf(x, mu), colors='b', lw=5, alpha=0.5)\n",
    "plt.title('Poisson PDF.  $\\lambda T$ = {}'.format(mu),size=14)\n",
    "plt.xlabel(r'k',size=14)\n",
    "plt.ylabel(r'P[X = k]',size=14)\n",
    "print('')"
   ]
  },
  {
   "cell_type": "markdown",
   "metadata": {
    "slideshow": {
     "slide_type": "fragment"
    }
   },
   "source": [
    "The Poisson distribution has an interesting role in our perception of randomness (which you can read more about [here](http://www.empiricalzeal.com/2012/12/21/what-does-randomness-look-like/#more-2450)).    \n",
    "\n",
    "The classic example comes from history.  From the above site:\n",
    "\n",
    ">In 1898 Ladislaus Bortkiewicz, a Russian statistician of Polish descent, was trying to understand why, in some years, \n",
    ">an unusually large number of soldiers in the Prussian army were dying due to horse-kicks. In a single army corp, \n",
    ">there were sometimes 4 such deaths in a single year. Was this just coincidence?\n",
    "\n",
    "To assess whether horse-kicks were random (not following any pattern) Bortkiewicz simply compared the number per year to what would be predicted by the Poisson distribution."
   ]
  },
  {
   "cell_type": "code",
   "execution_count": 11,
   "metadata": {
    "collapsed": false,
    "slideshow": {
     "slide_type": "fragment"
    }
   },
   "outputs": [
    {
     "data": {
      "text/html": [
       "<div id=\"f878838555d6fa7c\"></div>\n",
       "    <script type=\"text/javascript\">\n",
       "        $(function(){\n",
       "            var p = $(\"#f878838555d6fa7c\");\n",
       "            if (p.length==0) return;\n",
       "\n",
       "            while (!p.hasClass(\"cell\")) {\n",
       "                p=p.parent();\n",
       "\n",
       "                if (p.prop(\"tagName\") ==\"body\") return;\n",
       "            }\n",
       "            var cell = p;\n",
       "            cell.find(\".input\").addClass(\"hide-in-slideshow\")\n",
       "        });\n",
       "    </script>"
      ]
     },
     "metadata": {},
     "output_type": "display_data"
    },
    {
     "data": {
      "text/html": [
       "<div>\n",
       "<table border=\"1\" class=\"dataframe\">\n",
       "  <thead>\n",
       "    <tr style=\"text-align: right;\">\n",
       "      <th></th>\n",
       "      <th>Number of Deaths Per Year</th>\n",
       "      <th>Predicted Instances (Poisson)</th>\n",
       "      <th>Observed Instances</th>\n",
       "    </tr>\n",
       "  </thead>\n",
       "  <tbody>\n",
       "    <tr>\n",
       "      <th>0</th>\n",
       "      <td>0.0</td>\n",
       "      <td>108.67</td>\n",
       "      <td>109.0</td>\n",
       "    </tr>\n",
       "    <tr>\n",
       "      <th>1</th>\n",
       "      <td>1.0</td>\n",
       "      <td>66.29</td>\n",
       "      <td>65.0</td>\n",
       "    </tr>\n",
       "    <tr>\n",
       "      <th>2</th>\n",
       "      <td>2.0</td>\n",
       "      <td>20.22</td>\n",
       "      <td>22.0</td>\n",
       "    </tr>\n",
       "    <tr>\n",
       "      <th>3</th>\n",
       "      <td>3.0</td>\n",
       "      <td>4.11</td>\n",
       "      <td>3.0</td>\n",
       "    </tr>\n",
       "    <tr>\n",
       "      <th>4</th>\n",
       "      <td>4.0</td>\n",
       "      <td>0.63</td>\n",
       "      <td>1.0</td>\n",
       "    </tr>\n",
       "    <tr>\n",
       "      <th>5</th>\n",
       "      <td>5.0</td>\n",
       "      <td>0.08</td>\n",
       "      <td>0.0</td>\n",
       "    </tr>\n",
       "    <tr>\n",
       "      <th>6</th>\n",
       "      <td>6.0</td>\n",
       "      <td>0.01</td>\n",
       "      <td>0.0</td>\n",
       "    </tr>\n",
       "  </tbody>\n",
       "</table>\n",
       "</div>"
      ],
      "text/plain": [
       "   Number of Deaths Per Year  Predicted Instances (Poisson)  \\\n",
       "0                        0.0                         108.67   \n",
       "1                        1.0                          66.29   \n",
       "2                        2.0                          20.22   \n",
       "3                        3.0                           4.11   \n",
       "4                        4.0                           0.63   \n",
       "5                        5.0                           0.08   \n",
       "6                        6.0                           0.01   \n",
       "\n",
       "   Observed Instances  \n",
       "0               109.0  \n",
       "1                65.0  \n",
       "2                22.0  \n",
       "3                 3.0  \n",
       "4                 1.0  \n",
       "5                 0.0  \n",
       "6                 0.0  "
      ]
     },
     "execution_count": 11,
     "metadata": {},
     "output_type": "execute_result"
    }
   ],
   "source": [
    "sl.hide_code_in_slideshow()\n",
    "horse_kicks = pd.DataFrame(\n",
    "data = np.array([\n",
    "[0, 108.67, 109],\n",
    "[1, 66.29, 65],\n",
    "[2, 20.22, 22],\n",
    "[3, 4.11, 3],\n",
    "[4, 0.63, 1],\n",
    "[5, 0.08, 0],\n",
    "[6, 0.01, 0]]),\n",
    "columns = [\"Number of Deaths Per Year\",\"Predicted Instances (Poisson)\",\"Observed Instances\"])\n",
    "horse_kicks"
   ]
  },
  {
   "cell_type": "code",
   "execution_count": 12,
   "metadata": {
    "collapsed": false,
    "slideshow": {
     "slide_type": "fragment"
    }
   },
   "outputs": [
    {
     "data": {
      "text/html": [
       "<div id=\"4dc79bf63c1c96e6\"></div>\n",
       "    <script type=\"text/javascript\">\n",
       "        $(function(){\n",
       "            var p = $(\"#4dc79bf63c1c96e6\");\n",
       "            if (p.length==0) return;\n",
       "\n",
       "            while (!p.hasClass(\"cell\")) {\n",
       "                p=p.parent();\n",
       "\n",
       "                if (p.prop(\"tagName\") ==\"body\") return;\n",
       "            }\n",
       "            var cell = p;\n",
       "            cell.find(\".input\").addClass(\"hide-in-slideshow\")\n",
       "        });\n",
       "    </script>"
      ]
     },
     "metadata": {},
     "output_type": "display_data"
    },
    {
     "name": "stdout",
     "output_type": "stream",
     "text": [
      "\n"
     ]
    },
    {
     "data": {
      "image/png": "[encoded data removed]",
      "text/plain": [
       "<matplotlib.figure.Figure at 0x117eacf28>"
      ]
     },
     "metadata": {
      "image/png": {
       "height": 271,
       "width": 391
      }
     },
     "output_type": "display_data"
    }
   ],
   "source": [
    "sl.hide_code_in_slideshow()\n",
    "horse_kicks[[\"Predicted Instances (Poisson)\",\"Observed Instances\"]].plot.bar()\n",
    "plt.xlabel(\"Number of Deaths Per Year\",size=14)\n",
    "plt.ylabel(\"Count\",size=14)\n",
    "print('')"
   ]
  },
  {
   "cell_type": "markdown",
   "metadata": {
    "slideshow": {
     "slide_type": "fragment"
    }
   },
   "source": [
    "The message here is that when events occur at random, we actually tend to perceive them as clustered.   \n",
    "\n",
    "Here is another example:\n",
    "\n",
    "![](figs/pinker-glow-worms-and-stars-plot.jpg)\n",
    "\n",
    "Which of these was generated by a random process ocurring equally likely everywhere?\n",
    "\n",
    "These images are from Steven Pinker’s book, _The Better Angels of our Nature._"
   ]
  },
  {
   "cell_type": "markdown",
   "metadata": {
    "slideshow": {
     "slide_type": "fragment"
    }
   },
   "source": [
    "In the left figure, the number of dots falling into regions of a given size follows the Poisson distribution."
   ]
  },
  {
   "cell_type": "markdown",
   "metadata": {
    "slideshow": {
     "slide_type": "slide"
    }
   },
   "source": [
    "#### The Uniform Distribution"
   ]
  },
  {
   "cell_type": "markdown",
   "metadata": {
    "slideshow": {
     "slide_type": "fragment"
    }
   },
   "source": [
    "The uniform distribution models the case in which all outcomes are equally probable.  \n",
    "\n",
    "It can be a discrete or continuous distribution.\n",
    "\n",
    "We have already seen the uniform distribution in the case of rolls of a fair die:"
   ]
  },
  {
   "cell_type": "code",
   "execution_count": 13,
   "metadata": {
    "collapsed": false,
    "slideshow": {
     "slide_type": "fragment"
    }
   },
   "outputs": [
    {
     "data": {
      "text/html": [
       "<div id=\"665a382bcb200c17\"></div>\n",
       "    <script type=\"text/javascript\">\n",
       "        $(function(){\n",
       "            var p = $(\"#665a382bcb200c17\");\n",
       "            if (p.length==0) return;\n",
       "\n",
       "            while (!p.hasClass(\"cell\")) {\n",
       "                p=p.parent();\n",
       "\n",
       "                if (p.prop(\"tagName\") ==\"body\") return;\n",
       "            }\n",
       "            var cell = p;\n",
       "            cell.find(\".input\").addClass(\"hide-in-slideshow\")\n",
       "        });\n",
       "    </script>"
      ]
     },
     "metadata": {},
     "output_type": "display_data"
    },
    {
     "name": "stdout",
     "output_type": "stream",
     "text": [
      "\n"
     ]
    },
    {
     "data": {
      "image/png": "[encoded data removed]",
      "text/plain": [
       "<matplotlib.figure.Figure at 0x11aaf4d68>"
      ]
     },
     "metadata": {
      "image/png": {
       "height": 270,
       "width": 390
      }
     },
     "output_type": "display_data"
    }
   ],
   "source": [
    "sl.hide_code_in_slideshow()\n",
    "plt.figure()\n",
    "x = np.arange(7)\n",
    "plt.plot(x, 7*[1/6.], 'bo', ms=8)\n",
    "plt.vlines(x, 0, 1/6., colors='b', lw=5, alpha=0.5)\n",
    "plt.xlim([-0.5,6.5])\n",
    "plt.ylim([0,1.1])\n",
    "plt.xlabel('Number of points showing',size=14)\n",
    "plt.ylabel(r'$P[X = x]$',size=14)\n",
    "print('')"
   ]
  },
  {
   "cell_type": "markdown",
   "metadata": {
    "slideshow": {
     "slide_type": "fragment"
    }
   },
   "source": [
    "There is an important relationship between the uniform and Poisson distributions.\n",
    "\n",
    "__When the time an event occurs is uniformly distributed, the number of events in a time interval is Poisson distributed.__\n",
    "\n",
    "You can replace \"time\" with \"location\", and so on.\n",
    "\n",
    "Also, the reverse statment is true as well.\n",
    "\n",
    "So a simple way to generate a picture like the scattered points above is to select the $x$ and $y$ coordinates of each point uniformly distributed over the picture size."
   ]
  },
  {
   "cell_type": "markdown",
   "metadata": {
    "slideshow": {
     "slide_type": "slide"
    }
   },
   "source": [
    "#### The Gaussian Distribution\n",
    "\n",
    "The Gaussian Distribution is also called the Normal Distribution."
   ]
  },
  {
   "cell_type": "markdown",
   "metadata": {
    "slideshow": {
     "slide_type": "fragment"
    }
   },
   "source": [
    "We will make __extensive__ use of Gaussian distribution, for a number of reasons.\n",
    "\n",
    "One of reasons we will use it so much is that it is a good guess for how errors are distributed in data.\n",
    "\n",
    "This comes from the celebrated __Central Limit Theorem__.   Informally, \n",
    "\n",
    ">_The sum of a large number of independent observations from any\n",
    ">distribution with finite variance tends to have a Gaussian\n",
    "> distribution._"
   ]
  },
  {
   "cell_type": "markdown",
   "metadata": {
    "slideshow": {
     "slide_type": "fragment"
    }
   },
   "source": [
    "As a special case, the sum of $n$ independent Gaussian variates is Gaussian.\n",
    "Thus Gaussian processes remain Gaussian after passing through linear\n",
    "systems.   \n",
    "\n",
    "If $X_1$ and $X_2$ are Gaussian, then $X_3 = aX_2 + bX_3$ is Gaussian."
   ]
  },
  {
   "cell_type": "markdown",
   "metadata": {
    "slideshow": {
     "slide_type": "fragment"
    }
   },
   "source": [
    "Thus we can see that one way of thinking of the Gaussian is that it is the\n",
    "limit of the Binomial when $n$ is large, that is, the limit of\n",
    "the sum of many Bernoulli trials.    However many other\n",
    "sums of random variables (not just Bernoulli trials) converge to the\n",
    "Gaussian as well."
   ]
  },
  {
   "cell_type": "markdown",
   "metadata": {
    "slideshow": {
     "slide_type": "fragment"
    }
   },
   "source": [
    "The _standard Gaussian_ distribution has mean zero and a variance (and standard deviation)\n",
    "of 1.   The pdf of the standard Gaussian is:\n",
    "\n",
    "$$ p(x) = \\frac{1}{\\sqrt{2 \\pi}} e^{-x^2/2}. $$"
   ]
  },
  {
   "cell_type": "markdown",
   "metadata": {
    "slideshow": {
     "slide_type": "fragment"
    }
   },
   "source": [
    "For an arbitrary Gaussian distribution with mean $\\mu$ and variance\n",
    "$\\sigma^2$, the pdf is simply the standard Gaussian that is relocated to\n",
    "have its center at $\\mu$ and its width scaled by $\\sigma$:\n",
    "\n",
    "$$ p_{\\mu,\\sigma}(x) = \\frac{1}{\\sigma \\sqrt{2 \\pi}} e^{-\\frac{1}{2}\\left(\\frac{x-\\mu}{\\sigma}\\right)^2}. $$"
   ]
  },
  {
   "cell_type": "code",
   "execution_count": 14,
   "metadata": {
    "collapsed": false,
    "slideshow": {
     "slide_type": "fragment"
    }
   },
   "outputs": [
    {
     "data": {
      "text/html": [
       "<div id=\"949ed83946ca40e3\"></div>\n",
       "    <script type=\"text/javascript\">\n",
       "        $(function(){\n",
       "            var p = $(\"#949ed83946ca40e3\");\n",
       "            if (p.length==0) return;\n",
       "\n",
       "            while (!p.hasClass(\"cell\")) {\n",
       "                p=p.parent();\n",
       "\n",
       "                if (p.prop(\"tagName\") ==\"body\") return;\n",
       "            }\n",
       "            var cell = p;\n",
       "            cell.find(\".input\").addClass(\"hide-in-slideshow\")\n",
       "        });\n",
       "    </script>"
      ]
     },
     "metadata": {},
     "output_type": "display_data"
    },
    {
     "name": "stdout",
     "output_type": "stream",
     "text": [
      "\n"
     ]
    },
    {
     "data": {
      "image/png": "[encoded data removed]",
      "text/plain": [
       "<matplotlib.figure.Figure at 0x11ab13320>"
      ]
     },
     "metadata": {
      "image/png": {
       "height": 287,
       "width": 400
      }
     },
     "output_type": "display_data"
    }
   ],
   "source": [
    "sl.hide_code_in_slideshow()\n",
    "from scipy.stats import norm\n",
    "plt.figure()\n",
    "x = np.linspace(norm.ppf(0.001), norm.ppf(0.999), 100)\n",
    "plt.plot(x, norm.pdf(x),'b-')\n",
    "plt.title(r'Standard Gaussian PDF.  $\\mu = 0, \\sigma = 1$',size=14)\n",
    "plt.xlabel('x',size=14)\n",
    "plt.ylabel(r'$p(x)$',size=14)\n",
    "print('')"
   ]
  },
  {
   "cell_type": "code",
   "execution_count": 15,
   "metadata": {
    "collapsed": false,
    "slideshow": {
     "slide_type": "fragment"
    }
   },
   "outputs": [
    {
     "data": {
      "text/html": [
       "<div id=\"5641c0c453af975b\"></div>\n",
       "    <script type=\"text/javascript\">\n",
       "        $(function(){\n",
       "            var p = $(\"#5641c0c453af975b\");\n",
       "            if (p.length==0) return;\n",
       "\n",
       "            while (!p.hasClass(\"cell\")) {\n",
       "                p=p.parent();\n",
       "\n",
       "                if (p.prop(\"tagName\") ==\"body\") return;\n",
       "            }\n",
       "            var cell = p;\n",
       "            cell.find(\".input\").addClass(\"hide-in-slideshow\")\n",
       "        });\n",
       "    </script>"
      ]
     },
     "metadata": {},
     "output_type": "display_data"
    },
    {
     "name": "stdout",
     "output_type": "stream",
     "text": [
      "\n"
     ]
    },
    {
     "data": {
      "image/png": "[encoded data removed]",
      "text/plain": [
       "<matplotlib.figure.Figure at 0x117e7d518>"
      ]
     },
     "metadata": {
      "image/png": {
       "height": 287,
       "width": 393
      }
     },
     "output_type": "display_data"
    }
   ],
   "source": [
    "sl.hide_code_in_slideshow()\n",
    "plt.figure()\n",
    "x = np.linspace(norm.ppf(0.001), norm.ppf(0.999), 100)\n",
    "plt.plot(x, norm.cdf(x),'b-')\n",
    "plt.title(r'Standard Gaussian CDF.  $\\mu = 0, \\sigma = 1$',size=14)\n",
    "plt.xlabel('x',size=14)\n",
    "plt.ylabel(r'$P[X\\leq x]$',size=14)\n",
    "print('')"
   ]
  },
  {
   "cell_type": "markdown",
   "metadata": {
    "slideshow": {
     "slide_type": "slide"
    }
   },
   "source": [
    "### Heavy Tails"
   ]
  },
  {
   "cell_type": "markdown",
   "metadata": {
    "slideshow": {
     "slide_type": "fragment"
    }
   },
   "source": [
    "Earlier we discussed high- and low-variability.   \n",
    "\n",
    "All of the distributions we have discussed so far have \"light tails\", meaning that they show low variability.\n",
    "\n",
    "In other words, extremely large observations are essentially impossible."
   ]
  },
  {
   "cell_type": "markdown",
   "metadata": {
    "slideshow": {
     "slide_type": "fragment"
    }
   },
   "source": [
    "However in other cases, extremely large observations can occur.   Distributions that capture this property are called \"heavy tailed\".\n",
    "\n",
    "Some examples of data that can be often modeled using heavy-tailed distributions:\n",
    "\n",
    "* The sizes of files in a file system\n",
    "* The sizes of objects transferred over the Internet\n",
    "* The execution time of jobs on a computer system\n",
    "* The degree of nodes in a network (eg, social network).\n",
    "\n",
    "In practice, random variables that follow heavy tailed distributions\n",
    "are characterized as exhibiting many small observations mixed in with\n",
    "a few large observations.  \n",
    "\n",
    "In such datasets, most of the observations\n",
    "are small, but most of the contribution to the sample mean or variance\n",
    "comes from the rare, large observations."
   ]
  },
  {
   "cell_type": "markdown",
   "metadata": {
    "slideshow": {
     "slide_type": "slide"
    }
   },
   "source": [
    "#### The Pareto Distribution"
   ]
  },
  {
   "cell_type": "markdown",
   "metadata": {
    "slideshow": {
     "slide_type": "fragment"
    }
   },
   "source": [
    "The Pareto distribution is the simplest continuous heavy-tailed\n",
    "distribution.    \n",
    "\n",
    "Pareto was an Italian economist who studied income distributions.\n",
    "(In fact, income distributions typically show heavy tails.)\n",
    "\n",
    "Its pdf is:\n",
    "\n",
    "$$ p(x) = \\alpha k^{\\alpha} x^{-\\alpha-1}\\;\\;\\; k \\leq x,\\; \\;0 < \\alpha\n",
    "\\leq 2. $$\n",
    "\n",
    "It takes on values in the range $[k, \\infty]$. \n"
   ]
  },
  {
   "cell_type": "code",
   "execution_count": 16,
   "metadata": {
    "collapsed": false,
    "slideshow": {
     "slide_type": "fragment"
    }
   },
   "outputs": [
    {
     "data": {
      "text/html": [
       "<div id=\"336f927fac9b9020\"></div>\n",
       "    <script type=\"text/javascript\">\n",
       "        $(function(){\n",
       "            var p = $(\"#336f927fac9b9020\");\n",
       "            if (p.length==0) return;\n",
       "\n",
       "            while (!p.hasClass(\"cell\")) {\n",
       "                p=p.parent();\n",
       "\n",
       "                if (p.prop(\"tagName\") ==\"body\") return;\n",
       "            }\n",
       "            var cell = p;\n",
       "            cell.find(\".input\").addClass(\"hide-in-slideshow\")\n",
       "        });\n",
       "    </script>"
      ]
     },
     "metadata": {},
     "output_type": "display_data"
    },
    {
     "name": "stdout",
     "output_type": "stream",
     "text": [
      "\n"
     ]
    },
    {
     "data": {
      "image/png": "[encoded data removed]",
      "text/plain": [
       "<matplotlib.figure.Figure at 0x11b520eb8>"
      ]
     },
     "metadata": {
      "image/png": {
       "height": 286,
       "width": 394
      }
     },
     "output_type": "display_data"
    }
   ],
   "source": [
    "sl.hide_code_in_slideshow()\n",
    "from scipy.stats import pareto\n",
    "alpha = 1.3\n",
    "x = np.linspace(pareto.ppf(0.005,alpha), pareto.ppf(0.995,alpha), 100)\n",
    "plt.plot(x, pareto.pdf(x,alpha),'b-', lw=5, alpha=0.6, label='pareto pdf')\n",
    "plt.title(r'Pareto PDF.  $\\alpha$ = {}'.format(alpha),size=14)\n",
    "plt.xlabel(r'x',size=14)\n",
    "plt.ylabel(r'p(x)',size=14)\n",
    "print('')"
   ]
  },
  {
   "cell_type": "markdown",
   "metadata": {
    "slideshow": {
     "slide_type": "fragment"
    }
   },
   "source": [
    "The variance of the Pareto distribution is infinite.  (The corresponding\n",
    "integral diverges.)\n",
    "\n",
    "In practice, this means that a new observation that significantly\n",
    "changes the sample variance is _always_ possible, no matter how many samples\n",
    "of the random variable have already been taken."
   ]
  },
  {
   "cell_type": "markdown",
   "metadata": {
    "slideshow": {
     "slide_type": "fragment"
    }
   },
   "source": [
    "The mean of the Pareto is $\\frac{k\\alpha}{\\alpha-1}$, for $\\alpha > 1$.  \n",
    "\n",
    "But\n",
    "note that as $\\alpha$ decreases, the variability of the Pareto\n",
    "increases.  \n",
    "\n",
    "In fact, for $\\alpha \\leq 1$, the Pareto distribution has\n",
    "_infinite mean._  Again, in practice this means that a swamping\n",
    "observation for the mean is always possible.   \n",
    "\n",
    "Hence the running average\n",
    "of a series of Pareto observations with $\\alpha \\leq 1$ will never\n",
    "converge to a fixed value, and the mean itself is not a useful\n",
    "statistic in this case."
   ]
  },
  {
   "cell_type": "markdown",
   "metadata": {
    "slideshow": {
     "slide_type": "slide"
    }
   },
   "source": [
    "## Statistics"
   ]
  },
  {
   "cell_type": "markdown",
   "metadata": {
    "slideshow": {
     "slide_type": "fragment"
    }
   },
   "source": [
    "Statistics: \"The collection, analysis, interpretation, and presentation of masses of data.\""
   ]
  },
  {
   "cell_type": "markdown",
   "metadata": {
    "slideshow": {
     "slide_type": "slide"
    }
   },
   "source": [
    "### Bayes' Rule"
   ]
  },
  {
   "cell_type": "markdown",
   "metadata": {
    "slideshow": {
     "slide_type": "fragment"
    }
   },
   "source": [
    "Bayes' Rule is a simple way of manipulating conditional probabilities in a way that can be very useful."
   ]
  },
  {
   "cell_type": "markdown",
   "metadata": {
    "slideshow": {
     "slide_type": "fragment"
    }
   },
   "source": [
    "Start with a situation in which we are interested in two events, $A_1$ and $A_2$.  These are exhaustive, meaning that in any experiment either $A_1$ or $A_2$ must occur. (They form a partition of $\\Omega$.)\n",
    "\n",
    "Now:\n",
    "\n",
    "$$ P[A_1|B] = \\frac{P[A_1 \\cap B]}{P[B]}$$"
   ]
  },
  {
   "cell_type": "markdown",
   "metadata": {
    "slideshow": {
     "slide_type": "fragment"
    }
   },
   "source": [
    "$$ = \\frac{P[A_1 \\cap B]}{P[B|A_1] + P[B|A_2]}$$"
   ]
  },
  {
   "cell_type": "markdown",
   "metadata": {
    "slideshow": {
     "slide_type": "fragment"
    }
   },
   "source": [
    "$$ = \\frac{P[B|A_1]\\,P[A_1]}{P[B|A_1] + P[B|A_2]}$$"
   ]
  },
  {
   "cell_type": "markdown",
   "metadata": {
    "slideshow": {
     "slide_type": "fragment"
    }
   },
   "source": [
    "(This is easy to extend to the case where $A_1, A_2, ..., A_n$ form a partition of $\\Omega$.)\n",
    "\n",
    "This formula is useful because often the probabilities $P[B|A_i]$ can be\n",
    "estimated, while the probabilties $P[A_i|B]$ may be hard to estimate."
   ]
  },
  {
   "cell_type": "markdown",
   "metadata": {
    "slideshow": {
     "slide_type": "fragment"
    }
   },
   "source": [
    "We interpret this transformation as updating our estimate of the probability of each $A_i$\n",
    "based on new information, namely, that $B$ is true.   \n",
    "\n",
    "This update\n",
    "transforms the __prior__ probabilities $P[A_i]$ into the \n",
    "__posterior__ probabilities $P[A_i|B]$.\n"
   ]
  },
  {
   "cell_type": "markdown",
   "metadata": {
    "slideshow": {
     "slide_type": "slide"
    }
   },
   "source": [
    "__Example.__\n",
    "\n",
    "Empirical evidence suggests that amongs sets of twins,\n",
    "about 1/3 are identical.  \n",
    "\n",
    "Assume therefore that probability of a pair of\n",
    "twins being identical to be 1/3.  \n",
    "\n",
    "Now, consider how a couple might\n",
    "update this probability after they get an ultrasound that shows that the\n",
    "twins are of the same gender.   \n",
    "\n",
    "What is their new estimate of the\n",
    "probability that their twins are identical?"
   ]
  },
  {
   "cell_type": "markdown",
   "metadata": {
    "slideshow": {
     "slide_type": "fragment"
    }
   },
   "source": [
    "Let $I$ be the event that the twins are identical.  Let $G$ be the event\n",
    "that gender is the same via ultrasound.  \n",
    "\n",
    "The prior probabilities here\n",
    "is $P[I]$.\n",
    "\n",
    "What we want to calculate is the\n",
    "posterior probability $P[I\\,|\\,G]$."
   ]
  },
  {
   "cell_type": "markdown",
   "metadata": {
    "slideshow": {
     "slide_type": "fragment"
    }
   },
   "source": [
    "First, we note:\n",
    "\n",
    "$$P[G\\,|\\,I] = 1 $$\n",
    "\n",
    "(Surprisingly, people are sometimes confused about that fact!)   \n",
    "\n",
    "Note that this conditional probability is easy to estimate."
   ]
  },
  {
   "cell_type": "markdown",
   "metadata": {
    "slideshow": {
     "slide_type": "fragment"
    }
   },
   "source": [
    "Also,\n",
    "we assume that if the twins are not identical, they are like any two\n",
    "siblings, _i.e.,_ their probability of being same gender is 1/2: \n",
    "\n",
    "$$P[G\\,|\\,\\bar{I}] = 1/2 $$\n",
    "\n",
    "Again, easy to estimate."
   ]
  },
  {
   "cell_type": "markdown",
   "metadata": {
    "slideshow": {
     "slide_type": "fragment"
    }
   },
   "source": [
    "And we know from observing the population at large that among all sets\n",
    "of twins, about 1/3 are identical:\n",
    "\n",
    "$$ P[I] = 1/3 $$\n",
    "\n",
    "Note that this statistic is easy to obtain from data."
   ]
  },
  {
   "cell_type": "markdown",
   "metadata": {
    "collapsed": true,
    "slideshow": {
     "slide_type": "fragment"
    }
   },
   "source": [
    "Then:\n",
    "\n",
    "$$ P[I\\,|\\,G] = \\frac{P[G\\,|\\,I]\\; P[I]}{P[G\\,|\\,I]\\,P[I] + P[G\\,|\\,\\bar{I}]\\,P[\\bar{I}]} $$\n",
    "\n",
    "$$ = \\frac{1 \\cdot 1/3}{(1 \\cdot 1/3) + (1/2 \\cdot 2/3)} = \\frac{1}{2}$$\n",
    "\n",
    "So we have updated our estimate of the twins being identical from 1/3\n",
    "(prior probability) to 1/2 (posterior probability).\n",
    "\n",
    "We did this in a way that used quantities that were relatively easy to obtain or measure."
   ]
  },
  {
   "cell_type": "markdown",
   "metadata": {
    "slideshow": {
     "slide_type": "slide"
    }
   },
   "source": [
    "### Confidence Intervals"
   ]
  },
  {
   "cell_type": "markdown",
   "metadata": {
    "slideshow": {
     "slide_type": "fragment"
    }
   },
   "source": [
    "Say you are concerned with some data that we take as coming from a random process.\n",
    "\n",
    "You want to characterize it as accurately as possible.   You measure it, yielding a\n",
    "single value.  \n",
    "\n",
    "How much does that value tell you?   Can you rely on it as a description of the random process?"
   ]
  },
  {
   "cell_type": "markdown",
   "metadata": {
    "slideshow": {
     "slide_type": "fragment"
    }
   },
   "source": [
    "Let's say you have a dataset and you compute its average value.   \n",
    "\n",
    "How certain are you that the average would be the same if you took another dataset from the same source (i.e., the same random process)?"
   ]
  },
  {
   "cell_type": "markdown",
   "metadata": {
    "slideshow": {
     "slide_type": "fragment"
    }
   },
   "source": [
    "We think of the hypothetical data source as a random variable with a true mean $\\mu$.\n",
    "\n",
    "We would like to find a range within which we are 90% sure that the\n",
    "true mean $\\mu$ lies.  \n",
    "\n",
    "In other words, we want the probability that the true mean lies in\n",
    "the interval to be 0.9.  This interval is then called the 90% confidence interval."
   ]
  },
  {
   "cell_type": "markdown",
   "metadata": {
    "slideshow": {
     "slide_type": "fragment"
    }
   },
   "source": [
    "To be more precise:  A confidence interval at level $\\gamma$ for a fixed\n",
    "but unknown parameter $m$ is an interval $(a,b)$ such that\n",
    "\n",
    "$$ P[a < m < b] \\geq \\gamma. $$\n",
    "\n",
    "Note that $m$ is fixed --- it is not random.  What is random is the\n",
    "interval $(a, b)$.  This interval is constructed based on the\n",
    "data, which (by assumption) are random."
   ]
  },
  {
   "cell_type": "markdown",
   "metadata": {
    "slideshow": {
     "slide_type": "fragment"
    }
   },
   "source": [
    "![](figs/confidence-intervals.png)"
   ]
  },
  {
   "cell_type": "markdown",
   "metadata": {
    "collapsed": true,
    "slideshow": {
     "slide_type": "slide"
    }
   },
   "source": [
    "### Confidence Intervals for the Mean"
   ]
  },
  {
   "cell_type": "markdown",
   "metadata": {
    "slideshow": {
     "slide_type": "fragment"
    }
   },
   "source": [
    "Imagine we have a set of $n$ samples of a random variable,\n",
    "$x_1, x_2, ..., x_n$ Let's assume that the random variable has mean\n",
    "$\\mu$ and variance $\\sigma^2$.\n",
    "\n",
    "An estimate of $\\mu$ is the empirical average of the samples, $\\bar{x}$.   "
   ]
  },
  {
   "cell_type": "markdown",
   "metadata": {
    "slideshow": {
     "slide_type": "fragment"
    }
   },
   "source": [
    "Now, the Central Limit Theorem tells us that the sum of a\n",
    "large number $n$ of random variables, each with mean $\\mu$ and variance\n",
    "$\\sigma^2$, yields a Gaussian random variable with mean\n",
    "$n\\mu$ and variance $n \\sigma^2$.   So the distribution of the average\n",
    "would be normal with mean $\\mu$ and variance $\\sigma^2 / n$.  That\n",
    "is, \n",
    "\n",
    "$$ \\bar{x} \\sim N(\\mu, \\sigma/\\sqrt{n}) $$\n",
    "\n",
    "We usually assume that the number of samples should be 30 or more for\n",
    "the CLT to hold.   While the specific value 30 is a bit shaky, we will usually be\n",
    "using very large samples (datasets) in this course for which this assumption is \n",
    "valid."
   ]
  },
  {
   "cell_type": "markdown",
   "metadata": {
    "slideshow": {
     "slide_type": "fragment"
    }
   },
   "source": [
    "The standard deviation of the sample mean is called the standard error.\n",
    "\n",
    "Notice that the standard error decreases as we increase the sample size, according to $1/\\sqrt{n}.$\n",
    "\n",
    "So it will turn out that using $\\bar{x}$, we can get\n",
    "increasingly \"tight\" estimates of $\\mu$ as we increase the number of\n",
    "samples $n$."
   ]
  },
  {
   "cell_type": "markdown",
   "metadata": {
    "slideshow": {
     "slide_type": "fragment"
    }
   },
   "source": [
    "Now, remember that the true mean $\\mu$ is a constant, while the\n",
    "empirical mean $\\bar{x}$ is a random variable.   \n",
    "\n",
    "Let us assume for a\n",
    "moment that we know the true $\\mu$ and $\\sigma$, and that we accept that\n",
    "$\\bar{x}$ has a $N(\\mu, \\sigma/\\sqrt{n})$ distribution.   "
   ]
  },
  {
   "cell_type": "markdown",
   "metadata": {
    "slideshow": {
     "slide_type": "fragment"
    }
   },
   "source": [
    "Then it is\n",
    "true that \n",
    "\n",
    "$$ P[\\mu-k\\sigma/\\sqrt{n} < \\bar{x} < \\mu+k\\sigma/\\sqrt{n}] = P[-k < S <\n",
    "k]$$\n",
    "\n",
    "where $S$ is the standard Gaussian random variable (having distribution $N(0,1)$)."
   ]
  },
  {
   "cell_type": "markdown",
   "metadata": {
    "slideshow": {
     "slide_type": "fragment"
    }
   },
   "source": [
    "We write $z_{1-\\alpha/2}$ to be the $1-\\alpha/2$ quantile of the\n",
    "unit normal.  That is, \n",
    "\n",
    "$$ P[-z_{1-\\alpha/2} < S < z_{1-\\alpha/2}] = 1-\\alpha.$$\n",
    "\n",
    "So to form a 90% probability interval for $S$ (centered on\n",
    "zero) we choose $k = z_{0.95}$.  "
   ]
  },
  {
   "cell_type": "code",
   "execution_count": 17,
   "metadata": {
    "collapsed": false,
    "slideshow": {
     "slide_type": "fragment"
    }
   },
   "outputs": [
    {
     "data": {
      "text/html": [
       "<div id=\"3b5b8af66e3cb43c\"></div>\n",
       "    <script type=\"text/javascript\">\n",
       "        $(function(){\n",
       "            var p = $(\"#3b5b8af66e3cb43c\");\n",
       "            if (p.length==0) return;\n",
       "\n",
       "            while (!p.hasClass(\"cell\")) {\n",
       "                p=p.parent();\n",
       "\n",
       "                if (p.prop(\"tagName\") ==\"body\") return;\n",
       "            }\n",
       "            var cell = p;\n",
       "            cell.find(\".input\").addClass(\"hide-in-slideshow\")\n",
       "        });\n",
       "    </script>"
      ]
     },
     "metadata": {},
     "output_type": "display_data"
    },
    {
     "name": "stdout",
     "output_type": "stream",
     "text": [
      "\n"
     ]
    },
    {
     "data": {
      "image/png": "[encoded data removed]",
      "text/plain": [
       "<matplotlib.figure.Figure at 0x117ec5cc0>"
      ]
     },
     "metadata": {
      "image/png": {
       "height": 286,
       "width": 400
      }
     },
     "output_type": "display_data"
    }
   ],
   "source": [
    "sl.hide_code_in_slideshow()\n",
    "from scipy.stats import norm\n",
    "plt.figure()\n",
    "x = np.linspace(norm.ppf(0.001), norm.ppf(0.999), 100)\n",
    "x90 = np.linspace(norm.ppf(0.05), norm.ppf(0.95), 100)\n",
    "plt.plot(x, norm.pdf(x),'b-')\n",
    "plt.fill_between(x90, 0, norm.pdf(x90))\n",
    "plt.title(r'90% region for Standard Gaussian',size=14)\n",
    "plt.xlabel('x',size=14)\n",
    "plt.ylabel(r'$p(x)$',size=14)\n",
    "print('')"
   ]
  },
  {
   "cell_type": "markdown",
   "metadata": {
    "slideshow": {
     "slide_type": "fragment"
    }
   },
   "source": [
    "Turning back to $\\bar{x}$, the\n",
    "90% probability interval on $\\bar{x}$ would be:\n",
    "\n",
    "$$ \\mu-z_{0.95}\\sigma/\\sqrt{n} < \\bar{x} <\n",
    "\\mu+z_{0.95}\\sigma/\\sqrt{n}. $$"
   ]
  },
  {
   "cell_type": "markdown",
   "metadata": {
    "slideshow": {
     "slide_type": "fragment"
    }
   },
   "source": [
    "The last step: by a simple argument, we can show that the sample mean is \n",
    "in some fixed-size interval centered on the true mean, if and only if the true\n",
    "mean is also in\n",
    "a fixed-size interval (of the same size) centered on the sample mean."
   ]
  },
  {
   "cell_type": "markdown",
   "metadata": {
    "slideshow": {
     "slide_type": "fragment"
    }
   },
   "source": [
    "This means that:\n",
    "\\begin{eqnarray*}\n",
    "  1-\\alpha & = & P[\\mu-z_{1-\\alpha/2}\\sigma/\\sqrt{N} < \\bar{x} <\n",
    "\\mu+z_{1-\\alpha/2}\\sigma/\\sqrt{N}]\\\\\n",
    "& = & P[\\bar{x}-k\\sigma\\sqrt{N} < \\mu < \\bar{x}+k\\sigma/\\sqrt{N}].\n",
    "\\end{eqnarray*}\n",
    "This latter expression defines the __$1-\\alpha$ confidence interval\n",
    "  for the mean.__"
   ]
  },
  {
   "cell_type": "markdown",
   "metadata": {
    "slideshow": {
     "slide_type": "fragment"
    }
   },
   "source": [
    "We are done, except for estimating $\\sigma$.  We do this\n",
    "directly from the data: $\\hat{\\sigma} = s$\n",
    "(where $s$ is the sample standard deviation, $s = \\sqrt{1/(n-1) \\sum (x_i\n",
    "- \\bar{x})^2}$)."
   ]
  },
  {
   "cell_type": "markdown",
   "metadata": {
    "slideshow": {
     "slide_type": "fragment"
    }
   },
   "source": [
    "To summarize: by the argument presented here, a 100(1-$\\alpha$)%\n",
    "confidence interval for the population mean is given by\n",
    "\n",
    "$$\\bar{x} \\pm  z_{1-\\alpha/2} \\, \\frac{s}{\\sqrt{n}}. $$\n",
    "\n",
    "As an example, a 95% confidence interval for the mean is the sample average plus or minus two standard errors."
   ]
  },
  {
   "cell_type": "markdown",
   "metadata": {
    "slideshow": {
     "slide_type": "slide"
    }
   },
   "source": [
    "### Confidence Intervals for the Median"
   ]
  },
  {
   "cell_type": "markdown",
   "metadata": {
    "slideshow": {
     "slide_type": "fragment"
    }
   },
   "source": [
    "A $p$th percentile of a distribution is the value $m_p$ such that $P[X <\n",
    "m_p] = p$.   For example, the median is the 50th percentile."
   ]
  },
  {
   "cell_type": "markdown",
   "metadata": {
    "slideshow": {
     "slide_type": "fragment"
    }
   },
   "source": [
    "Say we start with a set of $n$ i.i.d. observations of an RV $X$. \n",
    "\n",
    "The true $p$th percentile of $X$ is $m_p$ by definition.  "
   ]
  },
  {
   "cell_type": "markdown",
   "metadata": {
    "slideshow": {
     "slide_type": "fragment"
    }
   },
   "source": [
    "Each observation\n",
    "$X_i$ therefore has probability $p$ of being below the corresponding\n",
    "percentile $m_p$.  \n",
    "\n",
    "What is the probability that exactly $j$ of the\n",
    "observations are less than $m_p$?  "
   ]
  },
  {
   "cell_type": "markdown",
   "metadata": {
    "slideshow": {
     "slide_type": "fragment"
    }
   },
   "source": [
    "This is a standard coin-flipping\n",
    "problem --- it is given by the Binomial: $B_{n,p}(j)$.\n",
    "\n",
    "$$ P[\\mbox{exactly }j\\mbox{ observations are less than } m_p] = B_{n,p}(j). $$"
   ]
  },
  {
   "cell_type": "markdown",
   "metadata": {
    "slideshow": {
     "slide_type": "fragment"
    }
   },
   "source": [
    "  \n",
    "We can write this compactly using _order statistics._  For a set\n",
    "of values $X_1, X_2, ..., X_n$ the order statistics are obtained by\n",
    "simply sorting the set.  This yields $X_{(1)}, X_{(2)}, ..., X_{(n)}$ ---\n",
    "so that, for example, $X_{(1)}$ is the smallest of the values and\n",
    "$X_{(n)}$ is the largest."
   ]
  },
  {
   "cell_type": "markdown",
   "metadata": {
    "slideshow": {
     "slide_type": "fragment"
    }
   },
   "source": [
    "Then the above expression can be written:\n",
    "\n",
    "$$ P[X_{(j)} < m_p \\leq X_{(j+1)}] = B_{n,p}(j). $$"
   ]
  },
  {
   "cell_type": "markdown",
   "metadata": {
    "slideshow": {
     "slide_type": "fragment"
    }
   },
   "source": [
    "Now we can string consecutive intervals together if we like, yielding:\n",
    "\n",
    "$$ P[X_{(j)} < m_p \\leq X_{(k)}] = \\sum_{i=j}^k B_{n,p}(i). $$"
   ]
  },
  {
   "cell_type": "markdown",
   "metadata": {
    "slideshow": {
     "slide_type": "fragment"
    }
   },
   "source": [
    "Now look at this from another standpoint.  \n",
    "\n",
    "The above expression also\n",
    "can be read as giving the probability that the $p$th percentile lies between\n",
    "$X_{(j)}$ and $X_{(k)}$.   "
   ]
  },
  {
   "cell_type": "markdown",
   "metadata": {
    "slideshow": {
     "slide_type": "fragment"
    }
   },
   "source": [
    "Let's say the sum on the right evaluates to\n",
    "$\\gamma$.   \n",
    "\n",
    "Then we have shown that $(X_{(j)}, X_{(k)})$ is a confidence\n",
    "interval at level $\\gamma$ for $m_p$."
   ]
  },
  {
   "cell_type": "markdown",
   "metadata": {
    "slideshow": {
     "slide_type": "fragment"
    }
   },
   "source": [
    "To use this in practice, let's say we have a set of $n$ measurements and\n",
    "we want to find the $\\gamma$ confidence interval for $p$th percentile.\n",
    "\n",
    "Then we just \n",
    "need to find integers $j$ and $k$ so that \n",
    "\n",
    "$$ \\sum_{i=j}^k B_{n,p}(i) \\geq \\gamma. $$"
   ]
  },
  {
   "cell_type": "markdown",
   "metadata": {
    "slideshow": {
     "slide_type": "fragment"
    }
   },
   "source": [
    "This can be aided if we have a table of the cumulative distribution of\n",
    "the binomial $F_{n,p}(k)$.   Then we need to find $j$ and $k$ such that\n",
    "\n",
    "$$ F_{n,p}(k) -  F_{n,p}(j) \\geq \\gamma. $$\n",
    "\n",
    "(Remember also that when $np$ is large, we can approximate the binomial\n",
    "by the Normal distribution)."
   ]
  },
  {
   "cell_type": "markdown",
   "metadata": {
    "slideshow": {
     "slide_type": "fragment"
    }
   },
   "source": [
    "__Example.__  Let's say we want the 95% confidence interval for the\n",
    "median, based on the following dataset:\n",
    "\n",
    "3, 1, 9, 7, 11, 15, 12, 4, 17, 10.\n",
    "\n",
    "We can compute that for $n = 10$ and $p = 0.5$,  $F_{n,p}(9) -\n",
    "F_{n,p}(2) \\geq 0.95$.  The order statistics are:\n",
    "\n",
    "1, 3, 4, 7, 9, 10, 11, 12, 15, 17.\n",
    "\n",
    "Then our estimate of the median is 9.5, and the confidence interval is (3,\n",
    "15)."
   ]
  }
 ],
 "metadata": {
  "anaconda-cloud": {},
  "celltoolbar": "Slideshow",
  "kernelspec": {
   "display_name": "Python [conda env:py3]",
   "language": "python",
   "name": "conda-env-py3-py"
  },
  "language_info": {
   "codemirror_mode": {
    "name": "ipython",
    "version": 3
   },
   "file_extension": ".py",
   "mimetype": "text/x-python",
   "name": "python",
   "nbconvert_exporter": "python",
   "pygments_lexer": "ipython3",
   "version": "3.5.2"
  }
 },
 "nbformat": 4,
 "nbformat_minor": 0
}
